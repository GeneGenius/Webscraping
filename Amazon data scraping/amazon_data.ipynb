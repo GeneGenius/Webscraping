{
 "cells": [
  {
   "cell_type": "code",
   "execution_count": 67,
   "metadata": {},
   "outputs": [],
   "source": [
    "from bs4 import BeautifulSoup\n",
    "import requests"
   ]
  },
  {
   "cell_type": "code",
   "execution_count": 68,
   "metadata": {},
   "outputs": [],
   "source": [
    "#URL requesting\n",
    "URL = \"https://www.amazon.com/Amazfit-Android-Satellite-Positioning-Water-Resistant/dp/B09X1NN4YS/ref=sr_1_1_sspa?crid=1WWCZC1E232IR&keywords=amazfit%2Bbip%2B3&qid=1697799524&sprefix=amazfit%2Bbip%2B3%2Caps%2C435&sr=8-1-spons&sp_csd=d2lkZ2V0TmFtZT1zcF9hdGY&th=1\"\n",
    "\n",
    "#Headers for request'\n",
    "HEADERS = {\n",
    "    'User-Agent': 'Mozilla/5.0 (X11; Linux x86_64; rv:109.0) Gecko/20100101 Firefox/115.0',\n",
    "    'Accept-Language': 'en-US, en;q=0.5'\n",
    "}\n",
    "\n"
   ]
  },
  {
   "cell_type": "code",
   "execution_count": 69,
   "metadata": {},
   "outputs": [],
   "source": [
    "html_text = requests.get(URL, headers=HEADERS)"
   ]
  },
  {
   "cell_type": "code",
   "execution_count": 70,
   "metadata": {},
   "outputs": [
    {
     "data": {
      "text/plain": [
       "<Response [200]>"
      ]
     },
     "execution_count": 70,
     "metadata": {},
     "output_type": "execute_result"
    }
   ],
   "source": [
    "html_text"
   ]
  },
  {
   "cell_type": "code",
   "execution_count": 71,
   "metadata": {},
   "outputs": [],
   "source": [
    "soup = BeautifulSoup(html_text.text)"
   ]
  },
  {
   "cell_type": "code",
   "execution_count": 72,
   "metadata": {},
   "outputs": [
    {
     "data": {
      "text/plain": [
       "bytes"
      ]
     },
     "execution_count": 72,
     "metadata": {},
     "output_type": "execute_result"
    }
   ],
   "source": [
    "type(html_text.content)"
   ]
  },
  {
   "cell_type": "code",
   "execution_count": 76,
   "metadata": {},
   "outputs": [],
   "source": [
    "review_elements = soup.find('div', class_='a-section a-spacing-none review-views celwidget')\n",
    "reviews = []"
   ]
  },
  {
   "cell_type": "code",
   "execution_count": 77,
   "metadata": {},
   "outputs": [
    {
     "name": "stdout",
     "output_type": "stream",
     "text": [
      "None\n"
     ]
    }
   ],
   "source": []
  },
  {
   "cell_type": "code",
   "execution_count": 80,
   "metadata": {},
   "outputs": [
    {
     "ename": "TypeError",
     "evalue": "'NoneType' object is not iterable",
     "output_type": "error",
     "traceback": [
      "\u001b[0;31m---------------------------------------------------------------------------\u001b[0m",
      "\u001b[0;31mTypeError\u001b[0m                                 Traceback (most recent call last)",
      "\u001b[1;32m/home/eugene/Desktop/codersroom/Webscraping/Amazon data scraping/amazon_data.ipynb Cell 9\u001b[0m line \u001b[0;36m1\n\u001b[0;32m----> <a href='vscode-notebook-cell:/home/eugene/Desktop/codersroom/Webscraping/Amazon%20data%20scraping/amazon_data.ipynb#X14sZmlsZQ%3D%3D?line=0'>1</a>\u001b[0m \u001b[39mfor\u001b[39;00m review \u001b[39min\u001b[39;00m review_elements:\n\u001b[1;32m      <a href='vscode-notebook-cell:/home/eugene/Desktop/codersroom/Webscraping/Amazon%20data%20scraping/amazon_data.ipynb#X14sZmlsZQ%3D%3D?line=1'>2</a>\u001b[0m     reviewer_name \u001b[39m=\u001b[39m review\u001b[39m.\u001b[39mfind(\u001b[39m'\u001b[39m\u001b[39mspan\u001b[39m\u001b[39m'\u001b[39m, class_\u001b[39m=\u001b[39m\u001b[39m'\u001b[39m\u001b[39ma-profile-name\u001b[39m\u001b[39m'\u001b[39m)\u001b[39m.\u001b[39mtext\n\u001b[1;32m      <a href='vscode-notebook-cell:/home/eugene/Desktop/codersroom/Webscraping/Amazon%20data%20scraping/amazon_data.ipynb#X14sZmlsZQ%3D%3D?line=2'>3</a>\u001b[0m     review_text \u001b[39m=\u001b[39m review\u001b[39m.\u001b[39mfind(\u001b[39m'\u001b[39m\u001b[39mspan\u001b[39m\u001b[39m'\u001b[39m, class_\u001b[39m=\u001b[39m\u001b[39m'\u001b[39m\u001b[39ma-size-base review-text\u001b[39m\u001b[39m'\u001b[39m)\u001b[39m.\u001b[39mtext\n",
      "\u001b[0;31mTypeError\u001b[0m: 'NoneType' object is not iterable"
     ]
    }
   ],
   "source": [
    "\n",
    "for review in review_elements:\n",
    "    reviewer_name = review.find('span', class_='a-profile-name').text\n",
    "    review_text = review.find('span', class_='a-size-base review-text').text\n",
    "        \n",
    "    # Store the data in a dictionary\n",
    "    review_data = {'Reviewer Name': reviewer_name, 'Review': review_text}\n",
    "    reviews.append(review_data)"
   ]
  },
  {
   "cell_type": "code",
   "execution_count": null,
   "metadata": {},
   "outputs": [
    {
     "ename": "AttributeError",
     "evalue": "'NoneType' object has no attribute 'find'",
     "output_type": "error",
     "traceback": [
      "\u001b[0;31m---------------------------------------------------------------------------\u001b[0m",
      "\u001b[0;31mAttributeError\u001b[0m                            Traceback (most recent call last)",
      "\u001b[1;32m/home/eugene/Desktop/codersroom/Webscraping/Amazon data scraping/amazon_data.ipynb Cell 9\u001b[0m line \u001b[0;36m2\n\u001b[1;32m      <a href='vscode-notebook-cell:/home/eugene/Desktop/codersroom/Webscraping/Amazon%20data%20scraping/amazon_data.ipynb#X12sZmlsZQ%3D%3D?line=0'>1</a>\u001b[0m \u001b[39m#Reviewer = scrapped.find('span', class_='a-profile-name')\u001b[39;00m\n\u001b[0;32m----> <a href='vscode-notebook-cell:/home/eugene/Desktop/codersroom/Webscraping/Amazon%20data%20scraping/amazon_data.ipynb#X12sZmlsZQ%3D%3D?line=1'>2</a>\u001b[0m reviewer_name \u001b[39m=\u001b[39m scrapped\u001b[39m.\u001b[39;49mfind(\u001b[39m'\u001b[39m\u001b[39mspan\u001b[39m\u001b[39m'\u001b[39m, class_\u001b[39m=\u001b[39m\u001b[39m'\u001b[39m\u001b[39ma-profile-name\u001b[39m\u001b[39m'\u001b[39m)\u001b[39m.\u001b[39mtext\n",
      "\u001b[0;31mAttributeError\u001b[0m: 'NoneType' object has no attribute 'find'"
     ]
    }
   ],
   "source": [
    "# #Reviewer = scrapped.find('span', class_='a-profile-name')\n",
    "# reviewer_name = scrapped.find('span', class_='a-profile-name').text\n"
   ]
  },
  {
   "cell_type": "code",
   "execution_count": null,
   "metadata": {},
   "outputs": [
    {
     "ename": "SyntaxError",
     "evalue": "unmatched ')' (1627673791.py, line 23)",
     "output_type": "error",
     "traceback": [
      "\u001b[0;36m  Cell \u001b[0;32mIn[23], line 23\u001b[0;36m\u001b[0m\n\u001b[0;31m    <span>So many things I could say about this Amazfit Bip 5. But the highlights: 1) Battery life is almost off the charts. I can go 35 days on one charge with light daily usage. Checking time, checking some of the data. Way more than the advertised amount, though your mileage may vary. 2) The screen is sharp and clear with vibrant colors. I can read it in bright sunlight as well as in darkness, and the screen looks awesome. 4) It has every medical data point that most people will ever need. It does not, however, read blood pressure or sugar levels. But then, how many smart watches do?  5) It has a decent size and variety in the free ZEPP App Library. And if you can’t find your app there, there is an immediate connection to the ZEPP App Store. 6) The watch face at first glance seems large, but when I compare it to my wife’s Apple Watch, it’s the same. 7) Entry into the watch requires button presses. For example, to check time I have to make a button press. From there I can use the button or finger to navigate. This means that your watch won’t keep turning on because of an errant touch.<br>8). The ZEPP app is a vital part of the watch’s success. The app is free in the Apple App Store. I don’t know about the Android store, but I presume it’s the same. It gives much more detailed and complete information of all the data the watch tracks. Charts, graphs and explanations. It also gives appropriate notifications if you want them. They can be turned off. 9) Battery levels, steps, heart rate are displayed in real time. 10). And oh yeah, it keeps great time. I can’t recommend this any higher. It’s awesome.</span>\u001b[0m\n\u001b[0m                                                                                    ^\u001b[0m\n\u001b[0;31mSyntaxError\u001b[0m\u001b[0;31m:\u001b[0m unmatched ')'\n"
     ]
    }
   ],
   "source": [
    "<div id=\"customer_review-R1FMWH7OU3LB42\" class=\"a-section celwidget\" data-csa-c-id=\"2rcfk4-s3yt2n-vb6cxu-ugqm0q\" data-cel-widget=\"customer_review-R1FMWH7OU3LB42\"><div data-hook=\"genome-widget\" class=\"a-row a-spacing-mini\"><a href=\"/gp/profile/amzn1.account.AFPRHUYX46KSXDD4XZOIKB3HIP4A/ref=cm_cr_dp_d_gw_tr?ie=UTF8\" class=\"a-profile\" data-a-size=\"small\"><div aria-hidden=\"true\" class=\"a-profile-avatar-wrapper\"><div class=\"a-profile-avatar\"><img src=\"https://images-na.ssl-images-amazon.com/images/S/amazon-avatars-global/3b24eda5-ff09-4fe7-9179-278106f86d41._CR50,0,400,400_SX48_.jpg\" class=\"\" data-src=\"https://images-na.ssl-images-amazon.com/images/S/amazon-avatars-global/3b24eda5-ff09-4fe7-9179-278106f86d41._CR50,0,400,400_SX48_.jpg\"><noscript><img src=\"https://images-na.ssl-images-amazon.com/images/S/amazon-avatars-global/3b24eda5-ff09-4fe7-9179-278106f86d41._CR50,0,400,400_SX48_.jpg\"/></noscript></div></div><div class=\"a-profile-content\"><span class=\"a-profile-name\">Homerj56</span></div></a></div><div class=\"a-row\"><a data-hook=\"review-title\" class=\"a-size-base a-link-normal review-title a-color-base review-title-content a-text-bold\" href=\"/gp/customer-reviews/R1FMWH7OU3LB42/ref=cm_cr_dp_d_rvw_ttl?ie=UTF8&amp;ASIN=B09X1NN4YS\"><i data-hook=\"review-star-rating\" class=\"a-icon a-icon-star a-star-5 review-rating\"><span class=\"a-icon-alt\">5.0 out of 5 stars</span></i><span class=\"a-letter-space\"></span>\n",
    "\n",
    "\n",
    "\n",
    "\n",
    "\n",
    "\n",
    "\n",
    "  \n",
    "  \n",
    "    <span>As good as Apple Watch</span>\n",
    "  \n",
    "</a></div><span data-hook=\"review-date\" class=\"a-size-base a-color-secondary review-date\">Reviewed in the United States on October 10, 2023</span><div class=\"a-row a-spacing-mini review-data review-format-strip\"><span data-hook=\"format-strip-linkless\" class=\"a-color-secondary\">Style: Bip 5 New Model<i class=\"a-icon a-icon-text-separator\" role=\"img\" aria-label=\"|\"></i>Color: Soft Black</span><i class=\"a-icon a-icon-text-separator\" role=\"img\" aria-label=\"|\"></i><a class=\"a-link-normal\" target=\"_blank\" rel=\"noopener\" href=\"/gp/help/customer/display.html/ref=cm_cr_dp_d_rvw_avp?nodeId=G75XTB7MBMBTXP6W\"><span data-hook=\"avp-badge-linkless\" class=\"a-size-mini a-color-state a-text-bold\">Verified Purchase</span></a></div><div class=\"a-row a-spacing-small review-data\"><span data-hook=\"review-body\" class=\"a-size-base review-text\"><div data-a-expander-name=\"review_text_read_more\" data-a-expander-collapsed-height=\"300\" class=\"a-expander-collapsed-height a-row a-expander-container a-expander-partial-collapse-container\" style=\"max-height: none; height: 300px;\"><div data-hook=\"review-collapsed\" aria-expanded=\"false\" class=\"a-expander-content reviewText review-text-content a-expander-partial-collapse-content\" style=\"padding-bottom: 20px;\">\n",
    "\n",
    "\n",
    "\n",
    "\n",
    "\n",
    "\n",
    "  \n",
    "    <span>So many things I could say about this Amazfit Bip 5. But the highlights: 1) Battery life is almost off the charts. I can go 35 days on one charge with light daily usage. Checking time, checking some of the data. Way more than the advertised amount, though your mileage may vary. 2) The screen is sharp and clear with vibrant colors. I can read it in bright sunlight as well as in darkness, and the screen looks awesome. 4) It has every medical data point that most people will ever need. It does not, however, read blood pressure or sugar levels. But then, how many smart watches do?  5) It has a decent size and variety in the free ZEPP App Library. And if you can’t find your app there, there is an immediate connection to the ZEPP App Store. 6) The watch face at first glance seems large, but when I compare it to my wife’s Apple Watch, it’s the same. 7) Entry into the watch requires button presses. For example, to check time I have to make a button press. From there I can use the button or finger to navigate. This means that your watch won’t keep turning on because of an errant touch.<br>8). The ZEPP app is a vital part of the watch’s success. The app is free in the Apple App Store. I don’t know about the Android store, but I presume it’s the same. It gives much more detailed and complete information of all the data the watch tracks. Charts, graphs and explanations. It also gives appropriate notifications if you want them. They can be turned off. 9) Battery levels, steps, heart rate are displayed in real time. 10). And oh yeah, it keeps great time. I can’t recommend this any higher. It’s awesome.</span>\n",
    "  \n",
    "</div><div class=\"a-expander-header a-expander-partial-collapse-header\" style=\"opacity: 1; display: block;\"><div class=\"a-expander-content-fade\"></div><a href=\"javascript:void(0)\" data-csa-c-func-deps=\"aui-da-a-expander-toggle\" data-csa-c-type=\"widget\" data-csa-interaction-events=\"click\" data-hook=\"expand-collapse-read-more-less\" aria-label=\"Toggle full review text\" aria-expanded=\"false\" role=\"button\" data-action=\"a-expander-toggle\" class=\"a-declarative\" data-a-expander-toggle=\"{&quot;allowLinkDefault&quot;:true, &quot;expand_prompt&quot;:&quot;Read more&quot;, &quot;collapse_prompt&quot;:&quot;Read less&quot;}\" data-csa-c-id=\"9dd281-37yfej-uaeond-orkbzt\"><i class=\"a-icon a-icon-extender-expand\"></i><span class=\"a-expander-prompt\">Read more</span></a></div></div></span></div><div data-hook=\"review-comments\" class=\"a-row review-comments cr-vote-action-bar\"><span class=\"cr-vote\" data-hook=\"review-voting-widget\">\n",
    "  <div class=\"a-row a-spacing-small\"><span data-hook=\"helpful-vote-statement\" class=\"a-size-base a-color-tertiary cr-vote-text\">5 people found this helpful</span></div><!-- Components for Reactions C -->\n",
    "    <div class=\"cr-helpful-button aok-float-left\">\n",
    "          <span class=\"a-button a-button-base\" id=\"a-autoid-47\"><span class=\"a-button-inner\"><a href=\"https://www.amazon.com/ap/signin?openid.return_to=https%3A%2F%2Fwww.amazon.com%2Fdp%2FB09X1NN4YS%2Fref%3Dcm_cr_dp_d_vote_lft%3Fie%3DUTF8%26csrfT%3DhDWRht%252FaHgfHA3gAha1HXPtbA6T3VakNP8KQEOoirFRaAAAAAGUyXXwAAAAB%26reviewId%3DR1FMWH7OU3LB42%23R1FMWH7OU3LB42&amp;openid.identity=http%3A%2F%2Fspecs.openid.net%2Fauth%2F2.0%2Fidentifier_select&amp;openid.assoc_handle=usflex&amp;openid.mode=checkid_setup&amp;marketPlaceId=ATVPDKIKX0DER&amp;language=en&amp;openid.claimed_id=http%3A%2F%2Fspecs.openid.net%2Fauth%2F2.0%2Fidentifier_select&amp;openid.ns=http%3A%2F%2Fspecs.openid.net%2Fauth%2F2.0\" data-hook=\"vote-helpful-button\" class=\"a-button-text\" id=\"a-autoid-47-announce\"><div class=\"cr-helpful-text\">\n",
    "              Helpful</div>\n",
    "          </a></span></span></div>\n",
    "      </span><span class=\"cr-footer-line-height\">\n",
    "        <span><i class=\"a-icon a-icon-text-separator\" role=\"img\" aria-label=\"|\"></i><span class=\"a-declarative\" data-action=\"cr-popup\" data-csa-c-type=\"widget\" data-csa-c-func-deps=\"aui-da-cr-popup\" data-cr-popup=\"{&quot;width&quot;:&quot;580&quot;,&quot;title&quot;:&quot;ReportAbuse&quot;,&quot;url&quot;:&quot;/hz/reviews-render/report-review?ie=UTF8&amp;ref=cm_cr_dp_d_report&amp;csrfT=hDWRht%2FaHgfHA3gAha1HXPtbA6T3VakNP8KQEOoirFRaAAAAAGUyXXwAAAAB&amp;reviewId=R1FMWH7OU3LB42&quot;,&quot;height&quot;:&quot;380&quot;}\" data-csa-c-id=\"ceug1p-3pnhyx-rxdn5g-thm8cd\"><a class=\"a-size-base a-link-normal a-color-secondary report-abuse-link a-text-normal\" href=\"/hz/reviews-render/report-review?ie=UTF8&amp;ref=cm_cr_dp_d_report&amp;csrfT=hDWRht%2FaHgfHA3gAha1HXPtbA6T3VakNP8KQEOoirFRaAAAAAGUyXXwAAAAB&amp;reviewId=R1FMWH7OU3LB42\">Report</a></span></span></span>\n",
    "  </div></div>"
   ]
  }
 ],
 "metadata": {
  "kernelspec": {
   "display_name": "Python 3",
   "language": "python",
   "name": "python3"
  },
  "language_info": {
   "codemirror_mode": {
    "name": "ipython",
    "version": 3
   },
   "file_extension": ".py",
   "mimetype": "text/x-python",
   "name": "python",
   "nbconvert_exporter": "python",
   "pygments_lexer": "ipython3",
   "version": "3.11.5"
  }
 },
 "nbformat": 4,
 "nbformat_minor": 2
}
